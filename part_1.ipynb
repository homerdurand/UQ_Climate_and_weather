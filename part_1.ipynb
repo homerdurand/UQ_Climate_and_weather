{
 "cells": [
  {
   "cell_type": "markdown",
   "metadata": {},
   "source": [
    "# Hands on : Deterministic forecasting\n",
    "\n",
    "## Lorenz 96 Model\n",
    "\n",
    "The Lorenz 96 model is a simplified dynamical system used to represent the atmosphere and study chaos in weather and climate dynamics. It consists of a set of coupled variables that evolve over time, with each variable representing different aspects of the system (e.g., temperature or pressure). The model is widely used to investigate stochastic parametrizations and the effects of different levels of resolution in weather and climate models.\n",
    "\n",
    "### Model Overview\n",
    "\n",
    "The Lorenz 96 model defines two types of variables:\n",
    "- **Slow Variables $X_k$**: These are large-amplitude, slow-changing variables, which represent the 'resolved' components of the system.\n",
    "- **Fast Variables $Y_j$**: These are small-amplitude, fast-changing variables, representing the 'unresolved' components."
   ]
  },
  {
   "cell_type": "code",
   "execution_count": null,
   "metadata": {
    "tags": [
     "hide-input"
    ]
   },
   "outputs": [],
   "source": [
    "import numpy as np\n",
    "from matplotlib import pyplot as plt\n",
    "import matplotlib.animation as animation\n",
    "from IPython.display import HTML\n",
    "\n",
    "from l96 import *\n",
    "from tqdm import tqdm\n",
    "import seaborn as sns\n",
    "from sklearn.preprocessing import PolynomialFeatures\n",
    "from sklearn.linear_model import LinearRegression\n",
    "from sklearn.gaussian_process import GaussianProcessRegressor\n",
    "from sklearn.gaussian_process.kernels import RBF, WhiteKernel\n",
    "from sklearn.model_selection import train_test_split\n",
    "from sklearn.metrics import r2_score \n",
    "from utils import *\n",
    "np.random.seed(3)\n",
    "\n",
    "# Define colorblind-friendly colors\n",
    "color_sim = '#56B4E9'   # Light blue\n",
    "color_threshold = '#D55E00'  # Red"
   ]
  },
  {
   "cell_type": "code",
   "execution_count": null,
   "metadata": {
    "tags": [
     "hide-input"
    ]
   },
   "outputs": [],
   "source": [
    "initX, initY = np.load('./data/initX.npy'), np.load('./data/initY.npy')\n",
    "l96_ref = L96TwoLevel(X_init=initX, Y_init=initY, save_dt=0.001, noYhist=False)\n",
    "l96_ref.iterate(30)\n",
    "l96_ref.erase_history()\n",
    "l96_ref.iterate(0.8)\n",
    "\n",
    "# Create polar animation for Lorenz 96 simulation\n",
    "def plot_l96_polar_animation(X_hist, Y_hist, subsample_rate=10):\n",
    "    K = X_hist.shape[1]  # Number of points for X\n",
    "    J = Y_hist.shape[1]  # Number of points for Y\n",
    "    \n",
    "    # Polar coordinates for plotting\n",
    "    theta = np.linspace(0, 2 * np.pi, K, endpoint=False)\n",
    "    theta = np.append(theta, theta[0])  # Ensure circular loop\n",
    "    theta_Y = np.linspace(0, 2 * np.pi, J, endpoint=False)\n",
    "    theta_Y = np.append(theta_Y, theta_Y[0])  # Ensure circular loop\n",
    "    \n",
    "    # Subsample for faster animation\n",
    "    subsample_time = range(0, len(X_hist), subsample_rate)\n",
    "    X_hist_sub = X_hist[subsample_time]\n",
    "    Y_hist_sub = Y_hist[subsample_time]\n",
    "    \n",
    "    # Create polar plot\n",
    "    fig, ax = plt.subplots(subplot_kw={'projection': 'polar'})\n",
    "    ax.set_ylim(-15, 15)  # Adjust radial limits\n",
    "    \n",
    "    # Initialize lines for X and Y\n",
    "    line_X, = ax.plot([], [], 'b-', label='X')\n",
    "    line_Y, = ax.plot([], [], 'orange', alpha=0.7, label='Y')\n",
    "    \n",
    "    # Initialize function for animation\n",
    "    def init():\n",
    "        line_X.set_data([], [])\n",
    "        line_Y.set_data([], [])\n",
    "        return line_X, line_Y\n",
    "    \n",
    "    # Update function for animation\n",
    "    def update(frame):\n",
    "        X_values = np.append(X_hist_sub[frame], X_hist_sub[frame][0])  # Loop back to start\n",
    "        Y_values = np.append(Y_hist_sub[frame], Y_hist_sub[frame][0])  # Loop back to start\n",
    "        \n",
    "        line_X.set_data(theta, X_values)\n",
    "        line_Y.set_data(theta_Y, Y_values)\n",
    "        return line_X, line_Y\n",
    "    \n",
    "    # Create animation\n",
    "    ani = animation.FuncAnimation(fig, update, frames=len(X_hist_sub), init_func=init, blit=True, interval=50)\n",
    "    \n",
    "    # Close static plot to avoid double display\n",
    "    plt.close(fig)\n",
    "    \n",
    "    # Display animation in Jupyter Notebook\n",
    "    return HTML(ani.to_jshtml())\n",
    "\n",
    "# Display the polar animation directly in the Jupyter Notebook\n",
    "plot_l96_polar_animation(l96_ref.history.X.values, l96_ref.history.Y.values*10)\n"
   ]
  },
  {
   "cell_type": "markdown",
   "metadata": {},
   "source": [
    "#### Equations\n",
    "\n",
    "The evolution of the slow and fast variables are given by:\n",
    "\n",
    "$$\n",
    "\\frac{dX_k}{dt} = -X_{k-1} (X_{k-2} - X_{k+1}) - X_k + F - \\frac{h}{b} \\bar{Y} \\quad \\text{for} \\quad k = 1, \\dots, K\n",
    "$$\n",
    "\n",
    "$$\n",
    "\\frac{dY_j}{dt} = -c b Y_{j+1} (Y_{j+2} - Y_{j-1}) - c Y_j + \\frac{h}{b} X_{k}  \\quad \\text{for} \\quad j = 1, \\dots, JK\n",
    "$$\n",
    "\n",
    "Where:\n",
    "- $X_k$ are the slow variables.\n",
    "- $Y_j$ are the fast variables.\n",
    "- $F$ is the external forcing term.\n",
    "- $h$, $b$, and $c$ are model parameters.\n",
    "- $X_{\\text{int}}$ represents the interaction of slow components with fast components.\n",
    "\n",
    "### Parameters\n",
    "\n",
    "The model uses the following parameters, which control the dynamics of the system:\n",
    "\n",
    "| Parameter | Description                          | Value     |\n",
    "|-----------|--------------------------------------|-----------|\n",
    "| $K$   | Number of slow variables             | 8         |\n",
    "| $J$   | Number of fast variables per slow var| 32        |\n",
    "| $h$   | Coupling constant for interaction    | 1         |\n",
    "| $b$   | Scaling constant for fast components | 10        |\n",
    "| $c$   | Scaling constant for fast components | 10        |\n",
    "| $F$   | External forcing term                | 18 or 20  |\n",
    "| $X_{\\text{int}}$ | Interaction term for coupling between layers | Defined by the integer truncation $\\left\\lfloor \\frac{j-1}{J} \\right\\rfloor + 1$ |\n"
   ]
  },
  {
   "cell_type": "code",
   "execution_count": null,
   "metadata": {
    "tags": [
     "hide-input"
    ]
   },
   "outputs": [],
   "source": [
    "l96_ref.erase_history()\n",
    "l96_ref.iterate(15)\n",
    "h = l96_ref.history\n",
    "X = h.X.values\n",
    "idx = np.arange(0, X.shape[0], 100)\n",
    "X_sampled = X[idx, :]\n",
    "observations = X_sampled + np.random.normal(0, 0.3,  X_sampled.shape)\n",
    "threshold = np.percentile(observations, 99.9)"
   ]
  },
  {
   "cell_type": "markdown",
   "metadata": {},
   "source": [
    "### Goal\n",
    "* We want to accurately predict future storms which we set as the 99.9 percentile on the past distribution (approximately $X>12$) \n",
    "* We are interested in the Southeastern of UK which is located at $X[:, 0]$."
   ]
  },
  {
   "cell_type": "code",
   "execution_count": null,
   "metadata": {},
   "outputs": [],
   "source": [
    "location = 0"
   ]
  },
  {
   "cell_type": "code",
   "execution_count": null,
   "metadata": {
    "tags": [
     "hide-input"
    ]
   },
   "outputs": [],
   "source": [
    "plt.plot(np.arange(0, X.shape[0]), X[:, location], label='True value')\n",
    "plt.plot(idx, observations[:, location], 'x', color='darkblue', label='observation')\n",
    "plt.hlines(y=threshold, xmin=0, xmax=idx[-1], linestyles='-.', label='Storm threshold', color='black')"
   ]
  },
  {
   "cell_type": "markdown",
   "metadata": {},
   "source": [
    "## Simulation Model\n",
    "\n",
    "The simulation model we use is designed to forecast the dynamics of the resolved variables $X_k^*$ by approximating the effects of the unresolved variables $Y_j$. Instead of explicitly modeling the fast components, their influence is captured through a parametrization function $g_U(X_k^*)$, which depends solely on the resolved variables. This approach simplifies the system while retaining the key characteristics of the unresolved dynamics. The model is governed by the following equation:\n",
    "\n",
    "$$\n",
    "\\frac{dX_k^*}{dt} = -X_{k-1}^*(X_{k-2}^* - X_{k+1}^*) - X_k^* + F - g_U(X_k^*) \\quad \\text{for} \\quad k = 1, \\dots, K\n",
    "$$\n",
    "\n",
    "In this formulation, the term $g_U(X_k^*)$ models the impact of the unresolved variables and includes random forcing, reflecting the inherent uncertainty in the system. This simplified representation enables efficient simulations of the resolved variables while accounting for the unresolved dynamics through parametrization.\n"
   ]
  },
  {
   "cell_type": "markdown",
   "metadata": {},
   "source": [
    "### Running a simple simulation model\n",
    "We initialise our simulation model from the last observation:"
   ]
  },
  {
   "cell_type": "code",
   "execution_count": null,
   "metadata": {},
   "outputs": [],
   "source": [
    "X_init = observations[-1, :]"
   ]
  },
  {
   "cell_type": "markdown",
   "metadata": {},
   "source": [
    "Our simple deterministic simulation model works as follows:\n",
    "* We firt load the simulation model"
   ]
  },
  {
   "cell_type": "code",
   "execution_count": null,
   "metadata": {},
   "outputs": [],
   "source": [
    "l96_simulation = L96OneLevel(X_init=X_init, noprog=True)"
   ]
  },
  {
   "cell_type": "markdown",
   "metadata": {},
   "source": [
    "* Using the function [np.roll](https://numpy.org/doc/2.1/reference/generated/numpy.roll.html) create a function that take $X_k \\in \\mathbb{R}^K$ and return for all $k$, $\\frac{dX_k}{d t} = -X_{k-1} (X_{k-2} - X_{k+1}) - X_k + F$ with $F=20$ (assumed as known)."
   ]
  },
  {
   "cell_type": "code",
   "execution_count": null,
   "metadata": {},
   "outputs": [],
   "source": [
    "def _rhs(X, F=10):\n",
    "    \"\"\"Right the upating function here using function np.roll.\"\"\"\n",
    "    dXdt = (\n",
    "            # Fill the dynamical system here \n",
    "    )\n",
    "    return dXdt\n",
    "\n",
    "l96_simulation._rhs = _rhs"
   ]
  },
  {
   "cell_type": "code",
   "execution_count": null,
   "metadata": {},
   "outputs": [],
   "source": [
    "time = 10\n",
    "l96_simulation.iterate(time=time)\n",
    "\n",
    "l96_ref.erase_history()\n",
    "l96_ref.iterate(time=time)"
   ]
  },
  {
   "cell_type": "markdown",
   "metadata": {},
   "source": [
    "**Asking people what would be there communication about what is gonna happen**"
   ]
  },
  {
   "cell_type": "code",
   "execution_count": null,
   "metadata": {},
   "outputs": [],
   "source": [
    "h_sim = l96_simulation.history\n",
    "h_true = l96_ref.history\n",
    "\n",
    "plot_time_series(X, h_true.X.values, h_sim.X.values[None, :, :], subsample_rate=50, threshold=threshold)"
   ]
  },
  {
   "cell_type": "markdown",
   "metadata": {},
   "source": [
    "![](../content/images/great_storm_news_paper.jpeg)"
   ]
  },
  {
   "cell_type": "markdown",
   "metadata": {},
   "source": [
    "The [Great Storm of 1987](https://en.wikipedia.org/wiki/Great_storm_of_1987) hit southeastern Britain unexpectedly, causing widespread damage. Though there were some early warnings, the storm was not predicted for the night it struck, catching people by surprise. Winds reached up to **220 km/h**, wreaking havoc across southern England. Thousands of trees were uprooted, and parks, estates, and landmarks were severely damaged. Transportation was crippled as roads, railways, and airports were closed, while widespread power outages plunged much of the southeast, including London, into darkness. The storm resulted in **18 fatalities** and left many homes and schools in ruins. It also caused **£2 billion in damage**, making it the second most costly weather event in UK history. Though the storm’s timing at night helped reduce casualties, it highlighted the significant challenges of weather forecasting."
   ]
  },
  {
   "cell_type": "markdown",
   "metadata": {},
   "source": [
    "![](../content/images/great_storm_news_paper_2.png)"
   ]
  },
  {
   "cell_type": "markdown",
   "metadata": {},
   "source": [
    "In the early 1990s, following the unexpected storm of 1987, weather forecasting began shifting from simple deterministic predictions to **probabilistic ensemble forecasting**. This approach runs multiple simulations with slightly different initial conditions, providing a range of possible outcomes rather than a single forecast. Advances in computing power and parallel processing made this transition possible, allowing meteorologists to better account for uncertainties in atmospheric conditions. Ensemble forecasting has since become a key tool in operational weather prediction, improving the ability to anticipate extreme events and their likelihood.\n",
    "\n",
    "See [Lessons and legacy of the Great Storm of 1987 (MetOffice)](https://www.metoffice.gov.uk/about-us/who-we-are/our-history/lessons-and-legacy-of-the-great-storm-of-1987) for more details on how the great storm of 1987 helped in improving our modelling capacities.\n",
    "\n",
    "See also [The great storm of 15–16 October 1987](https://www.researchgate.net/profile/Stephen-Burt/publication/260891819_The_Great_Storm_of_15-16_October_1987/links/5aec4f380f7e9b01d3e08884/The-Great-Storm-of-15-16-October-1987.pdf)."
   ]
  },
  {
   "cell_type": "markdown",
   "metadata": {},
   "source": [
    "### Model performance\n",
    "* Let's make our failure more quantitative\n",
    "* Plot the time evolution of the MSE between observations and prediction"
   ]
  },
  {
   "cell_type": "code",
   "execution_count": null,
   "metadata": {},
   "outputs": [],
   "source": [
    "observations = h_true.X.values\n",
    "predictions = h_sim.X.values[1:, :]"
   ]
  },
  {
   "cell_type": "code",
   "execution_count": null,
   "metadata": {},
   "outputs": [],
   "source": [
    "# Plot MSE over time"
   ]
  },
  {
   "cell_type": "markdown",
   "metadata": {},
   "source": [
    "### Questions\n",
    "* Why did we fail capturing this extreme event?\n",
    "* How could avoid this problem in the future?"
   ]
  },
  {
   "cell_type": "code",
   "execution_count": null,
   "metadata": {},
   "outputs": [],
   "source": []
  }
 ],
 "metadata": {
  "kernelspec": {
   "display_name": "Python 3",
   "language": "python",
   "name": "python3"
  },
  "language_info": {
   "codemirror_mode": {
    "name": "ipython",
    "version": 3
   },
   "file_extension": ".py",
   "mimetype": "text/x-python",
   "name": "python",
   "nbconvert_exporter": "python",
   "pygments_lexer": "ipython3",
   "version": "3.13.2"
  }
 },
 "nbformat": 4,
 "nbformat_minor": 2
}
